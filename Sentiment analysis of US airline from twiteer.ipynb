{
 "cells": [
  {
   "cell_type": "markdown",
   "id": "heated-advice",
   "metadata": {},
   "source": [
    "<h1 align='center'>Sentiment Analysis of US Airline from Twiteer<h1>"
   ]
  },
  {
   "cell_type": "markdown",
   "id": "weighted-agency",
   "metadata": {},
   "source": [
    "The objective of this project is to analyze how travelers mentioned their feeling or review used US Airlines on Twitter in February 2015, and also we try to make model machine learning to classify Twitter sentiment from travelers. It would be helpful for airlines use this free data from Twitter to know how performance their service"
   ]
  },
  {
   "cell_type": "markdown",
   "id": "assisted-mounting",
   "metadata": {},
   "source": [
    "The dataset can be downloaded from kaggle: https://www.kaggle.com/crowdflower/twitter-airline-sentiment"
   ]
  },
  {
   "cell_type": "markdown",
   "id": "polish-plate",
   "metadata": {},
   "source": [
    "Content overview:\n",
    "1. Reading and Understanding data\n",
    "2. Data Exploratory\n",
    "3. Data preprocessing\n",
    "4. Text analysis\n",
    "5. Build model to predict airline sentiment\n",
    "6. Final model\n",
    "7. Single prediction"
   ]
  },
  {
   "cell_type": "markdown",
   "id": "joint-peninsula",
   "metadata": {},
   "source": [
    "## 1. Reading and Understanding data"
   ]
  },
  {
   "cell_type": "markdown",
   "id": "timely-interaction",
   "metadata": {},
   "source": [
    "### Import library"
   ]
  },
  {
   "cell_type": "code",
   "execution_count": 1,
   "id": "recreational-lighting",
   "metadata": {},
   "outputs": [],
   "source": [
    "import re\n",
    "import sqlite3\n",
    "import pandas as pd\n",
    "import numpy as np\n",
    "import joblib\n",
    "import seaborn as sns\n",
    "import matplotlib.pyplot as plt\n",
    "\n",
    "import emot as e\n",
    "import nltk\n",
    "from nltk.tokenize import WordPunctTokenizer\n",
    "from nltk.stem import WordNetLemmatizer\n",
    "from bs4 import BeautifulSoup\n",
    "from nltk import ngrams, FreqDist\n",
    "from wordcloud import WordCloud\n",
    "\n",
    "from sklearn.feature_extraction.text import CountVectorizer, TfidfVectorizer\n",
    "from sklearn.model_selection import train_test_split,RandomizedSearchCV , GridSearchCV\n",
    "\n",
    "from sklearn.linear_model import LogisticRegression\n",
    "from sklearn.ensemble import RandomForestClassifier\n",
    "from sklearn.svm import SVC\n",
    "from sklearn.neighbors import KNeighborsClassifier\n",
    "from xgboost import XGBClassifier\n",
    "\n",
    "from sklearn.metrics import accuracy_score, f1_score, precision_score, recall_score, confusion_matrix, classification_report , roc_curve, auc"
   ]
  },
  {
   "cell_type": "markdown",
   "id": "downtown-stephen",
   "metadata": {},
   "source": [
    "### Load dataset"
   ]
  },
  {
   "cell_type": "code",
   "execution_count": 2,
   "id": "terminal-assets",
   "metadata": {},
   "outputs": [],
   "source": [
    "conn = sqlite3.connect('./data/database.sqlite')\n",
    "df = pd.read_sql_query('SELECT * FROM Tweets',conn).reset_index(drop=True)"
   ]
  },
  {
   "cell_type": "code",
   "execution_count": 3,
   "id": "cellular-sound",
   "metadata": {},
   "outputs": [
    {
     "data": {
      "text/html": [
       "<div>\n",
       "<style scoped>\n",
       "    .dataframe tbody tr th:only-of-type {\n",
       "        vertical-align: middle;\n",
       "    }\n",
       "\n",
       "    .dataframe tbody tr th {\n",
       "        vertical-align: top;\n",
       "    }\n",
       "\n",
       "    .dataframe thead th {\n",
       "        text-align: right;\n",
       "    }\n",
       "</style>\n",
       "<table border=\"1\" class=\"dataframe\">\n",
       "  <thead>\n",
       "    <tr style=\"text-align: right;\">\n",
       "      <th></th>\n",
       "      <th>tweet_id</th>\n",
       "      <th>airline_sentiment</th>\n",
       "      <th>airline_sentiment_confidence</th>\n",
       "      <th>negativereason</th>\n",
       "      <th>negativereason_confidence</th>\n",
       "      <th>airline</th>\n",
       "      <th>airline_sentiment_gold</th>\n",
       "      <th>name</th>\n",
       "      <th>negativereason_gold</th>\n",
       "      <th>retweet_count</th>\n",
       "      <th>text</th>\n",
       "      <th>tweet_coord</th>\n",
       "      <th>tweet_created</th>\n",
       "      <th>tweet_location</th>\n",
       "      <th>user_timezone</th>\n",
       "    </tr>\n",
       "  </thead>\n",
       "  <tbody>\n",
       "    <tr>\n",
       "      <th>0</th>\n",
       "      <td>567588278875213824</td>\n",
       "      <td>neutral</td>\n",
       "      <td>1.0</td>\n",
       "      <td></td>\n",
       "      <td></td>\n",
       "      <td>Delta</td>\n",
       "      <td></td>\n",
       "      <td>JetBlueNews</td>\n",
       "      <td></td>\n",
       "      <td>0</td>\n",
       "      <td>@JetBlue's new CEO seeks the right balance to ...</td>\n",
       "      <td></td>\n",
       "      <td>2015-02-16 23:36:05 -0800</td>\n",
       "      <td>USA</td>\n",
       "      <td>Sydney</td>\n",
       "    </tr>\n",
       "    <tr>\n",
       "      <th>1</th>\n",
       "      <td>567590027375702016</td>\n",
       "      <td>negative</td>\n",
       "      <td>1.0</td>\n",
       "      <td>Can't Tell</td>\n",
       "      <td>0.6503</td>\n",
       "      <td>Delta</td>\n",
       "      <td></td>\n",
       "      <td>nesi_1992</td>\n",
       "      <td></td>\n",
       "      <td>0</td>\n",
       "      <td>@JetBlue is REALLY getting on my nerves !! 😡😡 ...</td>\n",
       "      <td></td>\n",
       "      <td>2015-02-16 23:43:02 -0800</td>\n",
       "      <td>undecided</td>\n",
       "      <td>Pacific Time (US &amp; Canada)</td>\n",
       "    </tr>\n",
       "    <tr>\n",
       "      <th>2</th>\n",
       "      <td>567591480085463040</td>\n",
       "      <td>negative</td>\n",
       "      <td>1.0</td>\n",
       "      <td>Late Flight</td>\n",
       "      <td>0.346</td>\n",
       "      <td>United</td>\n",
       "      <td></td>\n",
       "      <td>CPoutloud</td>\n",
       "      <td></td>\n",
       "      <td>0</td>\n",
       "      <td>@united yes. We waited in line for almost an h...</td>\n",
       "      <td></td>\n",
       "      <td>2015-02-16 23:48:48 -0800</td>\n",
       "      <td>Washington, DC</td>\n",
       "      <td></td>\n",
       "    </tr>\n",
       "    <tr>\n",
       "      <th>3</th>\n",
       "      <td>567592368451248130</td>\n",
       "      <td>negative</td>\n",
       "      <td>1.0</td>\n",
       "      <td>Late Flight</td>\n",
       "      <td>1</td>\n",
       "      <td>United</td>\n",
       "      <td></td>\n",
       "      <td>brenduch</td>\n",
       "      <td></td>\n",
       "      <td>0</td>\n",
       "      <td>@united the we got into the gate at IAH on tim...</td>\n",
       "      <td></td>\n",
       "      <td>2015-02-16 23:52:20 -0800</td>\n",
       "      <td></td>\n",
       "      <td>Buenos Aires</td>\n",
       "    </tr>\n",
       "    <tr>\n",
       "      <th>4</th>\n",
       "      <td>567594449874587648</td>\n",
       "      <td>negative</td>\n",
       "      <td>1.0</td>\n",
       "      <td>Customer Service Issue</td>\n",
       "      <td>0.3451</td>\n",
       "      <td>Southwest</td>\n",
       "      <td></td>\n",
       "      <td>VahidESQ</td>\n",
       "      <td></td>\n",
       "      <td>0</td>\n",
       "      <td>@SouthwestAir its cool that my bags take a bit...</td>\n",
       "      <td></td>\n",
       "      <td>2015-02-17 00:00:36 -0800</td>\n",
       "      <td>Los Angeles, CA</td>\n",
       "      <td>Pacific Time (US &amp; Canada)</td>\n",
       "    </tr>\n",
       "  </tbody>\n",
       "</table>\n",
       "</div>"
      ],
      "text/plain": [
       "             tweet_id airline_sentiment  airline_sentiment_confidence  \\\n",
       "0  567588278875213824           neutral                           1.0   \n",
       "1  567590027375702016          negative                           1.0   \n",
       "2  567591480085463040          negative                           1.0   \n",
       "3  567592368451248130          negative                           1.0   \n",
       "4  567594449874587648          negative                           1.0   \n",
       "\n",
       "           negativereason negativereason_confidence    airline  \\\n",
       "0                                                        Delta   \n",
       "1              Can't Tell                    0.6503      Delta   \n",
       "2             Late Flight                     0.346     United   \n",
       "3             Late Flight                         1     United   \n",
       "4  Customer Service Issue                    0.3451  Southwest   \n",
       "\n",
       "  airline_sentiment_gold         name negativereason_gold  retweet_count  \\\n",
       "0                         JetBlueNews                                  0   \n",
       "1                           nesi_1992                                  0   \n",
       "2                           CPoutloud                                  0   \n",
       "3                            brenduch                                  0   \n",
       "4                            VahidESQ                                  0   \n",
       "\n",
       "                                                text tweet_coord  \\\n",
       "0  @JetBlue's new CEO seeks the right balance to ...               \n",
       "1  @JetBlue is REALLY getting on my nerves !! 😡😡 ...               \n",
       "2  @united yes. We waited in line for almost an h...               \n",
       "3  @united the we got into the gate at IAH on tim...               \n",
       "4  @SouthwestAir its cool that my bags take a bit...               \n",
       "\n",
       "               tweet_created   tweet_location               user_timezone  \n",
       "0  2015-02-16 23:36:05 -0800              USA                      Sydney  \n",
       "1  2015-02-16 23:43:02 -0800        undecided  Pacific Time (US & Canada)  \n",
       "2  2015-02-16 23:48:48 -0800   Washington, DC                              \n",
       "3  2015-02-16 23:52:20 -0800                                 Buenos Aires  \n",
       "4  2015-02-17 00:00:36 -0800  Los Angeles, CA  Pacific Time (US & Canada)  "
      ]
     },
     "execution_count": 3,
     "metadata": {},
     "output_type": "execute_result"
    }
   ],
   "source": [
    "df.head()"
   ]
  },
  {
   "cell_type": "markdown",
   "id": "greatest-wiring",
   "metadata": {},
   "source": [
    "As we can see there are many columns in the dataset, but we don't use all to analyze. The column with the name \"airline_sentiment\" will be a target variable and we can predict it based on traveler's tweets (column text)."
   ]
  },
  {
   "cell_type": "markdown",
   "id": "environmental-prior",
   "metadata": {},
   "source": [
    "### Drop columns that are not used"
   ]
  },
  {
   "cell_type": "code",
   "execution_count": 4,
   "id": "secondary-fetish",
   "metadata": {},
   "outputs": [],
   "source": [
    "df1 = df.drop(columns=['tweet_id','airline_sentiment_confidence', 'negativereason_confidence','airline_sentiment_gold',\n",
    "              'tweet_coord','tweet_created','tweet_location','user_timezone','negativereason_gold'])"
   ]
  },
  {
   "cell_type": "markdown",
   "id": "expired-trust",
   "metadata": {},
   "source": [
    "### Checking missing value"
   ]
  },
  {
   "cell_type": "code",
   "execution_count": 5,
   "id": "manual-richmond",
   "metadata": {},
   "outputs": [],
   "source": [
    "df1.loc[df1.negativereason =='','negativereason'] = None"
   ]
  },
  {
   "cell_type": "code",
   "execution_count": 6,
   "id": "distributed-somalia",
   "metadata": {},
   "outputs": [
    {
     "data": {
      "text/plain": [
       "airline_sentiment       0\n",
       "negativereason       5403\n",
       "airline                 0\n",
       "name                    0\n",
       "retweet_count           0\n",
       "text                    0\n",
       "dtype: int64"
      ]
     },
     "execution_count": 6,
     "metadata": {},
     "output_type": "execute_result"
    }
   ],
   "source": [
    "df1.isnull().sum()"
   ]
  },
  {
   "cell_type": "markdown",
   "id": "comparative-civilization",
   "metadata": {},
   "source": [
    "column \"negativereason\" have null values, because that column contains the reason of why \"airline_sentiment\" have negative sentiment, so we dont need to treat those null values"
   ]
  },
  {
   "cell_type": "markdown",
   "id": "unable-tooth",
   "metadata": {},
   "source": [
    "### Data overview"
   ]
  },
  {
   "cell_type": "code",
   "execution_count": 7,
   "id": "reduced-destruction",
   "metadata": {},
   "outputs": [
    {
     "data": {
      "text/html": [
       "<div>\n",
       "<style scoped>\n",
       "    .dataframe tbody tr th:only-of-type {\n",
       "        vertical-align: middle;\n",
       "    }\n",
       "\n",
       "    .dataframe tbody tr th {\n",
       "        vertical-align: top;\n",
       "    }\n",
       "\n",
       "    .dataframe thead th {\n",
       "        text-align: right;\n",
       "    }\n",
       "</style>\n",
       "<table border=\"1\" class=\"dataframe\">\n",
       "  <thead>\n",
       "    <tr style=\"text-align: right;\">\n",
       "      <th></th>\n",
       "      <th>airline_sentiment</th>\n",
       "      <th>negativereason</th>\n",
       "      <th>airline</th>\n",
       "      <th>name</th>\n",
       "      <th>retweet_count</th>\n",
       "      <th>text</th>\n",
       "    </tr>\n",
       "  </thead>\n",
       "  <tbody>\n",
       "    <tr>\n",
       "      <th>0</th>\n",
       "      <td>neutral</td>\n",
       "      <td>None</td>\n",
       "      <td>Delta</td>\n",
       "      <td>JetBlueNews</td>\n",
       "      <td>0</td>\n",
       "      <td>@JetBlue's new CEO seeks the right balance to ...</td>\n",
       "    </tr>\n",
       "    <tr>\n",
       "      <th>1</th>\n",
       "      <td>negative</td>\n",
       "      <td>Can't Tell</td>\n",
       "      <td>Delta</td>\n",
       "      <td>nesi_1992</td>\n",
       "      <td>0</td>\n",
       "      <td>@JetBlue is REALLY getting on my nerves !! 😡😡 ...</td>\n",
       "    </tr>\n",
       "    <tr>\n",
       "      <th>2</th>\n",
       "      <td>negative</td>\n",
       "      <td>Late Flight</td>\n",
       "      <td>United</td>\n",
       "      <td>CPoutloud</td>\n",
       "      <td>0</td>\n",
       "      <td>@united yes. We waited in line for almost an h...</td>\n",
       "    </tr>\n",
       "    <tr>\n",
       "      <th>3</th>\n",
       "      <td>negative</td>\n",
       "      <td>Late Flight</td>\n",
       "      <td>United</td>\n",
       "      <td>brenduch</td>\n",
       "      <td>0</td>\n",
       "      <td>@united the we got into the gate at IAH on tim...</td>\n",
       "    </tr>\n",
       "    <tr>\n",
       "      <th>4</th>\n",
       "      <td>negative</td>\n",
       "      <td>Customer Service Issue</td>\n",
       "      <td>Southwest</td>\n",
       "      <td>VahidESQ</td>\n",
       "      <td>0</td>\n",
       "      <td>@SouthwestAir its cool that my bags take a bit...</td>\n",
       "    </tr>\n",
       "  </tbody>\n",
       "</table>\n",
       "</div>"
      ],
      "text/plain": [
       "  airline_sentiment          negativereason    airline         name  \\\n",
       "0           neutral                    None      Delta  JetBlueNews   \n",
       "1          negative              Can't Tell      Delta    nesi_1992   \n",
       "2          negative             Late Flight     United    CPoutloud   \n",
       "3          negative             Late Flight     United     brenduch   \n",
       "4          negative  Customer Service Issue  Southwest     VahidESQ   \n",
       "\n",
       "   retweet_count                                               text  \n",
       "0              0  @JetBlue's new CEO seeks the right balance to ...  \n",
       "1              0  @JetBlue is REALLY getting on my nerves !! 😡😡 ...  \n",
       "2              0  @united yes. We waited in line for almost an h...  \n",
       "3              0  @united the we got into the gate at IAH on tim...  \n",
       "4              0  @SouthwestAir its cool that my bags take a bit...  "
      ]
     },
     "execution_count": 7,
     "metadata": {},
     "output_type": "execute_result"
    }
   ],
   "source": [
    "df1.head()"
   ]
  },
  {
   "cell_type": "code",
   "execution_count": 8,
   "id": "working-region",
   "metadata": {},
   "outputs": [
    {
     "data": {
      "text/plain": [
       "(14485, 6)"
      ]
     },
     "execution_count": 8,
     "metadata": {},
     "output_type": "execute_result"
    }
   ],
   "source": [
    "df1.shape"
   ]
  },
  {
   "cell_type": "code",
   "execution_count": 9,
   "id": "familiar-decade",
   "metadata": {},
   "outputs": [
    {
     "name": "stdout",
     "output_type": "stream",
     "text": [
      "<class 'pandas.core.frame.DataFrame'>\n",
      "RangeIndex: 14485 entries, 0 to 14484\n",
      "Data columns (total 6 columns):\n",
      " #   Column             Non-Null Count  Dtype \n",
      "---  ------             --------------  ----- \n",
      " 0   airline_sentiment  14485 non-null  object\n",
      " 1   negativereason     9082 non-null   object\n",
      " 2   airline            14485 non-null  object\n",
      " 3   name               14485 non-null  object\n",
      " 4   retweet_count      14485 non-null  int64 \n",
      " 5   text               14485 non-null  object\n",
      "dtypes: int64(1), object(5)\n",
      "memory usage: 679.1+ KB\n"
     ]
    }
   ],
   "source": [
    "df1.info()"
   ]
  },
  {
   "cell_type": "code",
   "execution_count": 10,
   "id": "bigger-paintball",
   "metadata": {},
   "outputs": [
    {
     "data": {
      "text/html": [
       "<div>\n",
       "<style scoped>\n",
       "    .dataframe tbody tr th:only-of-type {\n",
       "        vertical-align: middle;\n",
       "    }\n",
       "\n",
       "    .dataframe tbody tr th {\n",
       "        vertical-align: top;\n",
       "    }\n",
       "\n",
       "    .dataframe thead th {\n",
       "        text-align: right;\n",
       "    }\n",
       "</style>\n",
       "<table border=\"1\" class=\"dataframe\">\n",
       "  <thead>\n",
       "    <tr style=\"text-align: right;\">\n",
       "      <th></th>\n",
       "      <th>retweet_count</th>\n",
       "    </tr>\n",
       "  </thead>\n",
       "  <tbody>\n",
       "    <tr>\n",
       "      <th>count</th>\n",
       "      <td>14485.000000</td>\n",
       "    </tr>\n",
       "    <tr>\n",
       "      <th>mean</th>\n",
       "      <td>0.083397</td>\n",
       "    </tr>\n",
       "    <tr>\n",
       "      <th>std</th>\n",
       "      <td>0.749632</td>\n",
       "    </tr>\n",
       "    <tr>\n",
       "      <th>min</th>\n",
       "      <td>0.000000</td>\n",
       "    </tr>\n",
       "    <tr>\n",
       "      <th>25%</th>\n",
       "      <td>0.000000</td>\n",
       "    </tr>\n",
       "    <tr>\n",
       "      <th>50%</th>\n",
       "      <td>0.000000</td>\n",
       "    </tr>\n",
       "    <tr>\n",
       "      <th>75%</th>\n",
       "      <td>0.000000</td>\n",
       "    </tr>\n",
       "    <tr>\n",
       "      <th>max</th>\n",
       "      <td>44.000000</td>\n",
       "    </tr>\n",
       "  </tbody>\n",
       "</table>\n",
       "</div>"
      ],
      "text/plain": [
       "       retweet_count\n",
       "count   14485.000000\n",
       "mean        0.083397\n",
       "std         0.749632\n",
       "min         0.000000\n",
       "25%         0.000000\n",
       "50%         0.000000\n",
       "75%         0.000000\n",
       "max        44.000000"
      ]
     },
     "execution_count": 10,
     "metadata": {},
     "output_type": "execute_result"
    }
   ],
   "source": [
    "df1.describe()"
   ]
  },
  {
   "cell_type": "code",
   "execution_count": 11,
   "id": "brilliant-anime",
   "metadata": {},
   "outputs": [
    {
     "data": {
      "text/html": [
       "<div>\n",
       "<style scoped>\n",
       "    .dataframe tbody tr th:only-of-type {\n",
       "        vertical-align: middle;\n",
       "    }\n",
       "\n",
       "    .dataframe tbody tr th {\n",
       "        vertical-align: top;\n",
       "    }\n",
       "\n",
       "    .dataframe thead th {\n",
       "        text-align: right;\n",
       "    }\n",
       "</style>\n",
       "<table border=\"1\" class=\"dataframe\">\n",
       "  <thead>\n",
       "    <tr style=\"text-align: right;\">\n",
       "      <th></th>\n",
       "      <th>airline_sentiment</th>\n",
       "      <th>negativereason</th>\n",
       "      <th>airline</th>\n",
       "      <th>name</th>\n",
       "      <th>text</th>\n",
       "    </tr>\n",
       "  </thead>\n",
       "  <tbody>\n",
       "    <tr>\n",
       "      <th>count</th>\n",
       "      <td>14485</td>\n",
       "      <td>9082</td>\n",
       "      <td>14485</td>\n",
       "      <td>14485</td>\n",
       "      <td>14485</td>\n",
       "    </tr>\n",
       "    <tr>\n",
       "      <th>unique</th>\n",
       "      <td>3</td>\n",
       "      <td>10</td>\n",
       "      <td>6</td>\n",
       "      <td>7701</td>\n",
       "      <td>14427</td>\n",
       "    </tr>\n",
       "    <tr>\n",
       "      <th>top</th>\n",
       "      <td>negative</td>\n",
       "      <td>Customer Service Issue</td>\n",
       "      <td>United</td>\n",
       "      <td>JetBlueNews</td>\n",
       "      <td>@united thanks</td>\n",
       "    </tr>\n",
       "    <tr>\n",
       "      <th>freq</th>\n",
       "      <td>9082</td>\n",
       "      <td>2885</td>\n",
       "      <td>3822</td>\n",
       "      <td>63</td>\n",
       "      <td>6</td>\n",
       "    </tr>\n",
       "  </tbody>\n",
       "</table>\n",
       "</div>"
      ],
      "text/plain": [
       "       airline_sentiment          negativereason airline         name  \\\n",
       "count              14485                    9082   14485        14485   \n",
       "unique                 3                      10       6         7701   \n",
       "top             negative  Customer Service Issue  United  JetBlueNews   \n",
       "freq                9082                    2885    3822           63   \n",
       "\n",
       "                  text  \n",
       "count            14485  \n",
       "unique           14427  \n",
       "top     @united thanks  \n",
       "freq                 6  "
      ]
     },
     "execution_count": 11,
     "metadata": {},
     "output_type": "execute_result"
    }
   ],
   "source": [
    "df1.select_dtypes(include=object).describe()"
   ]
  },
  {
   "cell_type": "markdown",
   "id": "changing-pipeline",
   "metadata": {},
   "source": [
    "for analysis we would use 6 column and 14456 record data, lets visualize to get more insight!"
   ]
  },
  {
   "cell_type": "markdown",
   "id": "comparable-hours",
   "metadata": {},
   "source": [
    "## 2. Exploratory data"
   ]
  },
  {
   "cell_type": "markdown",
   "id": "polished-programming",
   "metadata": {},
   "source": [
    "### Airline sentiment"
   ]
  },
  {
   "cell_type": "code",
   "execution_count": 12,
   "id": "tracked-granny",
   "metadata": {},
   "outputs": [
    {
     "data": {
      "image/png": "[encoded data removed]",
      "text/plain": [
       "<Figure size 720x504 with 1 Axes>"
      ]
     },
     "metadata": {
      "needs_background": "light"
     },
     "output_type": "display_data"
    }
   ],
   "source": [
    "data = df1.groupby(['airline_sentiment']).size().reset_index(name='count')\n",
    "plt.figure(figsize=(10,7))\n",
    "plt.bar(data['airline_sentiment'],data['count'],color='#5C527F')\n",
    "plt.title(\"Airline sentiment\")\n",
    "plt.xlabel(\"Sentiment\")\n",
    "plt.ylabel(\"Count\")\n",
    "plt.show()"
   ]
  },
  {
   "cell_type": "markdown",
   "id": "light-broad",
   "metadata": {},
   "source": [
    "Majorities for airline sentiment are negative, between positive and negative have quite extreme value differences. but it would be great information for airline to improve serive better "
   ]
  },
  {
   "cell_type": "markdown",
   "id": "hungry-latitude",
   "metadata": {},
   "source": [
    "### Sentiment for each airline"
   ]
  },
  {
   "cell_type": "code",
   "execution_count": 13,
   "id": "chemical-weather",
   "metadata": {},
   "outputs": [
    {
     "data": {
      "image/png": "[encoded data removed]",
      "text/plain": [
       "<Figure size 1080x720 with 1 Axes>"
      ]
     },
     "metadata": {
      "needs_background": "light"
     },
     "output_type": "display_data"
    }
   ],
   "source": [
    "data = df1.groupby(['airline','airline_sentiment']).size().reset_index(name='count')\n",
    "x = list(data['airline'].unique())\n",
    "x_axis = np.arange(len(x))\n",
    "\n",
    "plt.figure(figsize=(15,10))\n",
    "plt.bar(x_axis - 0.25,data[data['airline_sentiment']=='negative'].iloc[:,-1],width=0.25,color='#BD4B4B',label='neutral')\n",
    "plt.bar(x_axis,data[data['airline_sentiment']=='neutral'].iloc[:,-1],width=0.25,color = '#64C9CF',label='negative')\n",
    "plt.bar(x_axis + 0.25,data[data['airline_sentiment']=='positive'].iloc[:,-1],width=0.25,color = '#FFE459',label='positive')\n",
    "\n",
    "plt.xticks(x_axis,x)\n",
    "plt.xlabel(\"Airline\")\n",
    "plt.ylabel(\"Count\")\n",
    "plt.legend()\n",
    "plt.show()"
   ]
  },
  {
   "cell_type": "markdown",
   "id": "express-offense",
   "metadata": {},
   "source": [
    "Airlines with the most negative sentiment are United, US Airways, and American. Those airlines have a huge gap between negative  and positive sentiment"
   ]
  },
  {
   "cell_type": "markdown",
   "id": "metric-remedy",
   "metadata": {},
   "source": [
    "### The Reason of negative sentiment"
   ]
  },
  {
   "cell_type": "code",
   "execution_count": 14,
   "id": "compatible-savannah",
   "metadata": {},
   "outputs": [
    {
     "data": {
      "image/png": "[encoded data removed]",
      "text/plain": [
       "<Figure size 1080x504 with 1 Axes>"
      ]
     },
     "metadata": {
      "needs_background": "light"
     },
     "output_type": "display_data"
    }
   ],
   "source": [
    "data = df1.groupby(['negativereason']).size().reset_index(name='count').sort_values('count',ascending=False)\n",
    "\n",
    "plt.figure(figsize=(15,7))\n",
    "plt.bar(data['negativereason'],data['count'],color='#5C527F')\n",
    "plt.title(\"The reason of negative sentiment\")\n",
    "plt.xlabel(\"Reason\")\n",
    "plt.xticks(rotation = 45)\n",
    "plt.ylabel(\"Count\")\n",
    "plt.show()"
   ]
  },
  {
   "cell_type": "markdown",
   "id": "excited-alcohol",
   "metadata": {},
   "source": [
    "As you can see, majorities travelers give negative review are the customer service issue and flight delay. "
   ]
  },
  {
   "cell_type": "markdown",
   "id": "frequent-amazon",
   "metadata": {},
   "source": [
    "### Retweet of sentiment for each airline"
   ]
  },
  {
   "cell_type": "code",
   "execution_count": 15,
   "id": "strong-bernard",
   "metadata": {},
   "outputs": [
    {
     "data": {
      "image/png": "[encoded data removed]",
      "text/plain": [
       "<Figure size 1080x720 with 1 Axes>"
      ]
     },
     "metadata": {
      "needs_background": "light"
     },
     "output_type": "display_data"
    }
   ],
   "source": [
    "data = df1.groupby(['airline','airline_sentiment']).agg({'retweet_count':'sum'}).reset_index()\n",
    "x = list(data['airline'].unique())\n",
    "x_axis = np.arange(len(x))\n",
    "\n",
    "plt.figure(figsize=(15,10))\n",
    "plt.bar(x_axis - 0.25,data[data['airline_sentiment']=='negative'].iloc[:,-1],width=0.25,color='#BD4B4B',label='neutral')\n",
    "plt.bar(x_axis,data[data['airline_sentiment']=='neutral'].iloc[:,-1],width=0.25,color = '#64C9CF',label='negative')\n",
    "plt.bar(x_axis + 0.25,data[data['airline_sentiment']=='positive'].iloc[:,-1],width=0.25,color = '#FFE459',label='positive')\n",
    "\n",
    "plt.xticks(x_axis,x)\n",
    "plt.xlabel(\"Airline\")\n",
    "plt.ylabel(\"Count\")\n",
    "plt.legend()\n",
    "plt.show()"
   ]
  },
  {
   "cell_type": "markdown",
   "id": "sticky-investor",
   "metadata": {},
   "source": [
    "The most populer airlines on twitter are United and US Airways. on sentiment for each airline, American airline including top 3 with the most negative sentiment, but American airline not so populer on twitter"
   ]
  },
  {
   "cell_type": "markdown",
   "id": "rising-forestry",
   "metadata": {},
   "source": [
    "## 3. Data Preprocessing"
   ]
  },
  {
   "cell_type": "markdown",
   "id": "horizontal-jumping",
   "metadata": {},
   "source": [
    "To predict tweets sentiment negative or positive, we need text from travelers that has been labeled. so we will select column text and airline sentiment and then drop neutral sentiment from label."
   ]
  },
  {
   "cell_type": "code",
   "execution_count": 16,
   "id": "inner-boards",
   "metadata": {},
   "outputs": [
    {
     "data": {
      "text/html": [
       "<div>\n",
       "<style scoped>\n",
       "    .dataframe tbody tr th:only-of-type {\n",
       "        vertical-align: middle;\n",
       "    }\n",
       "\n",
       "    .dataframe tbody tr th {\n",
       "        vertical-align: top;\n",
       "    }\n",
       "\n",
       "    .dataframe thead th {\n",
       "        text-align: right;\n",
       "    }\n",
       "</style>\n",
       "<table border=\"1\" class=\"dataframe\">\n",
       "  <thead>\n",
       "    <tr style=\"text-align: right;\">\n",
       "      <th></th>\n",
       "      <th>airline_sentiment</th>\n",
       "      <th>negativereason</th>\n",
       "      <th>airline</th>\n",
       "      <th>name</th>\n",
       "      <th>retweet_count</th>\n",
       "      <th>text</th>\n",
       "    </tr>\n",
       "  </thead>\n",
       "  <tbody>\n",
       "    <tr>\n",
       "      <th>0</th>\n",
       "      <td>neutral</td>\n",
       "      <td>None</td>\n",
       "      <td>Delta</td>\n",
       "      <td>JetBlueNews</td>\n",
       "      <td>0</td>\n",
       "      <td>@JetBlue's new CEO seeks the right balance to ...</td>\n",
       "    </tr>\n",
       "    <tr>\n",
       "      <th>1</th>\n",
       "      <td>negative</td>\n",
       "      <td>Can't Tell</td>\n",
       "      <td>Delta</td>\n",
       "      <td>nesi_1992</td>\n",
       "      <td>0</td>\n",
       "      <td>@JetBlue is REALLY getting on my nerves !! 😡😡 ...</td>\n",
       "    </tr>\n",
       "    <tr>\n",
       "      <th>2</th>\n",
       "      <td>negative</td>\n",
       "      <td>Late Flight</td>\n",
       "      <td>United</td>\n",
       "      <td>CPoutloud</td>\n",
       "      <td>0</td>\n",
       "      <td>@united yes. We waited in line for almost an h...</td>\n",
       "    </tr>\n",
       "    <tr>\n",
       "      <th>3</th>\n",
       "      <td>negative</td>\n",
       "      <td>Late Flight</td>\n",
       "      <td>United</td>\n",
       "      <td>brenduch</td>\n",
       "      <td>0</td>\n",
       "      <td>@united the we got into the gate at IAH on tim...</td>\n",
       "    </tr>\n",
       "    <tr>\n",
       "      <th>4</th>\n",
       "      <td>negative</td>\n",
       "      <td>Customer Service Issue</td>\n",
       "      <td>Southwest</td>\n",
       "      <td>VahidESQ</td>\n",
       "      <td>0</td>\n",
       "      <td>@SouthwestAir its cool that my bags take a bit...</td>\n",
       "    </tr>\n",
       "  </tbody>\n",
       "</table>\n",
       "</div>"
      ],
      "text/plain": [
       "  airline_sentiment          negativereason    airline         name  \\\n",
       "0           neutral                    None      Delta  JetBlueNews   \n",
       "1          negative              Can't Tell      Delta    nesi_1992   \n",
       "2          negative             Late Flight     United    CPoutloud   \n",
       "3          negative             Late Flight     United     brenduch   \n",
       "4          negative  Customer Service Issue  Southwest     VahidESQ   \n",
       "\n",
       "   retweet_count                                               text  \n",
       "0              0  @JetBlue's new CEO seeks the right balance to ...  \n",
       "1              0  @JetBlue is REALLY getting on my nerves !! 😡😡 ...  \n",
       "2              0  @united yes. We waited in line for almost an h...  \n",
       "3              0  @united the we got into the gate at IAH on tim...  \n",
       "4              0  @SouthwestAir its cool that my bags take a bit...  "
      ]
     },
     "execution_count": 16,
     "metadata": {},
     "output_type": "execute_result"
    }
   ],
   "source": [
    "df1.head()"
   ]
  },
  {
   "cell_type": "markdown",
   "id": "suspected-moscow",
   "metadata": {},
   "source": [
    "### Select feature and target variable"
   ]
  },
  {
   "cell_type": "code",
   "execution_count": 17,
   "id": "still-movement",
   "metadata": {},
   "outputs": [],
   "source": [
    "data_prepro0 = df1[['text','airline_sentiment']]"
   ]
  },
  {
   "cell_type": "markdown",
   "id": "fundamental-coffee",
   "metadata": {},
   "source": [
    "### Drop neutral sentiment"
   ]
  },
  {
   "cell_type": "code",
   "execution_count": 18,
   "id": "confused-container",
   "metadata": {},
   "outputs": [],
   "source": [
    "data_prepro0 = data_prepro0[data_prepro0['airline_sentiment']!='neutral'] "
   ]
  },
  {
   "cell_type": "code",
   "execution_count": 19,
   "id": "widespread-stamp",
   "metadata": {},
   "outputs": [
    {
     "data": {
      "image/png": "[encoded data removed]",
      "text/plain": [
       "<Figure size 360x360 with 1 Axes>"
      ]
     },
     "metadata": {},
     "output_type": "display_data"
    }
   ],
   "source": [
    "plt.figure(figsize=(5,5))\n",
    "plt.title(\"PieChart of Airline Sentiment\")\n",
    "plt.pie(data_prepro0['airline_sentiment'].value_counts(),\n",
    "       labels = ['Negative','Positive'],\n",
    "       autopct ='%.2f%%',\n",
    "       colors = ['#00EAD3','#FFF5B7'],\n",
    "       explode=(0.0,0.05),\n",
    "       shadow = True)\n",
    "plt.show()"
   ]
  },
  {
   "cell_type": "markdown",
   "id": "informative-compound",
   "metadata": {},
   "source": [
    "### Encoding target variable"
   ]
  },
  {
   "cell_type": "markdown",
   "id": "suspended-netscape",
   "metadata": {},
   "source": [
    "Encoding target variabel negative or positive to 0 or 1 using get_dummies pandas"
   ]
  },
  {
   "cell_type": "code",
   "execution_count": 20,
   "id": "derived-growing",
   "metadata": {},
   "outputs": [],
   "source": [
    "data_prepro1 = data_prepro0.reset_index(drop=True)\n",
    "target = pd.get_dummies(data_prepro1['airline_sentiment'],drop_first=True)\n",
    "data_prepro1['airline_sentiment'] = target"
   ]
  },
  {
   "cell_type": "code",
   "execution_count": 21,
   "id": "searching-niagara",
   "metadata": {},
   "outputs": [
    {
     "data": {
      "text/html": [
       "<div>\n",
       "<style scoped>\n",
       "    .dataframe tbody tr th:only-of-type {\n",
       "        vertical-align: middle;\n",
       "    }\n",
       "\n",
       "    .dataframe tbody tr th {\n",
       "        vertical-align: top;\n",
       "    }\n",
       "\n",
       "    .dataframe thead th {\n",
       "        text-align: right;\n",
       "    }\n",
       "</style>\n",
       "<table border=\"1\" class=\"dataframe\">\n",
       "  <thead>\n",
       "    <tr style=\"text-align: right;\">\n",
       "      <th></th>\n",
       "      <th>text</th>\n",
       "      <th>airline_sentiment</th>\n",
       "    </tr>\n",
       "  </thead>\n",
       "  <tbody>\n",
       "    <tr>\n",
       "      <th>0</th>\n",
       "      <td>@JetBlue is REALLY getting on my nerves !! 😡😡 ...</td>\n",
       "      <td>0</td>\n",
       "    </tr>\n",
       "    <tr>\n",
       "      <th>1</th>\n",
       "      <td>@united yes. We waited in line for almost an h...</td>\n",
       "      <td>0</td>\n",
       "    </tr>\n",
       "    <tr>\n",
       "      <th>2</th>\n",
       "      <td>@united the we got into the gate at IAH on tim...</td>\n",
       "      <td>0</td>\n",
       "    </tr>\n",
       "    <tr>\n",
       "      <th>3</th>\n",
       "      <td>@SouthwestAir its cool that my bags take a bit...</td>\n",
       "      <td>0</td>\n",
       "    </tr>\n",
       "    <tr>\n",
       "      <th>4</th>\n",
       "      <td>@united and don't hope for me having a nicer f...</td>\n",
       "      <td>0</td>\n",
       "    </tr>\n",
       "  </tbody>\n",
       "</table>\n",
       "</div>"
      ],
      "text/plain": [
       "                                                text  airline_sentiment\n",
       "0  @JetBlue is REALLY getting on my nerves !! 😡😡 ...                  0\n",
       "1  @united yes. We waited in line for almost an h...                  0\n",
       "2  @united the we got into the gate at IAH on tim...                  0\n",
       "3  @SouthwestAir its cool that my bags take a bit...                  0\n",
       "4  @united and don't hope for me having a nicer f...                  0"
      ]
     },
     "execution_count": 21,
     "metadata": {},
     "output_type": "execute_result"
    }
   ],
   "source": [
    "data_prepro1.head()"
   ]
  },
  {
   "cell_type": "markdown",
   "id": "devoted-hungary",
   "metadata": {},
   "source": [
    "### Text Preprocessing"
   ]
  },
  {
   "cell_type": "markdown",
   "id": "piano-button",
   "metadata": {},
   "source": [
    "this text preprocessing purpose to extract the most important of keywords or to derive high-quality information and actionable insights from text. \n",
    "\n",
    "1. convert emoji: to get mining of the emoji\n",
    "2. cleaning text: to remove word remove meaningless words, (such as username, link website, hashtag and so on)\n",
    "3. Tokenizing: convert text to be word by word\n",
    "4. Remove stopwords : to remove a commonly used word (such as “the”, “a”, “an”, “in”)\n",
    "5. Normalizing words : to change a word to its basic form\n",
    "6. Untokenizing : to combine parts of words into a text."
   ]
  },
  {
   "cell_type": "code",
   "execution_count": 22,
   "id": "through-player",
   "metadata": {},
   "outputs": [],
   "source": [
    "token = WordPunctTokenizer()\n",
    "stopwords = nltk.corpus.stopwords.words(\"english\")\n",
    "stopwords.extend(['us','hr','w'])\n",
    "lemmatizer = WordNetLemmatizer()"
   ]
  },
  {
   "cell_type": "markdown",
   "id": "sacred-uruguay",
   "metadata": {},
   "source": [
    "#### Convert Emoji"
   ]
  },
  {
   "cell_type": "code",
   "execution_count": 23,
   "id": "composite-paintball",
   "metadata": {},
   "outputs": [],
   "source": [
    "def convert_emoji(texts):\n",
    "    new_text = []\n",
    "    for i,text in enumerate(texts):\n",
    "        text0 = ''\n",
    "        for emoji in e.UNICODE_EMOJI:\n",
    "            if emoji in text:\n",
    "                text = re.sub(r'[:]',\"\",\n",
    "                                re.sub(r'[::]',\" \",\n",
    "                                    re.sub(r'['+emoji+']',e.UNICODE_EMOJI_ALIAS[emoji],text)))\n",
    "        new_text.append(text)\n",
    "    return new_text"
   ]
  },
  {
   "cell_type": "markdown",
   "id": "correct-scroll",
   "metadata": {},
   "source": [
    "#### Cleaning Text"
   ]
  },
  {
   "cell_type": "code",
   "execution_count": 24,
   "id": "finite-contents",
   "metadata": {},
   "outputs": [],
   "source": [
    "def cleaning_text(texts):\n",
    "    text_cleaned = []\n",
    "    for text in texts:\n",
    "        pattern1 = r'@[^ ]+'\n",
    "        pattern2 = r'https?://[^ ]+'\n",
    "        pattern3 = r'#[^ ]+'\n",
    "        combined_pattern = r'|'.join((pattern1,pattern2,pattern3))\n",
    "        www_patt = r'www.[^ ]+'\n",
    "        text = re.sub(www_patt,'',re.sub(combined_pattern,'',text)).lower()\n",
    "        text_cleaned.append(text)\n",
    "    return text_cleaned"
   ]
  },
  {
   "cell_type": "code",
   "execution_count": 25,
   "id": "intense-zealand",
   "metadata": {},
   "outputs": [],
   "source": [
    "def cleaning_text2(texts):\n",
    "    text_cleaned = []\n",
    "    for text in texts:\n",
    "        pattern4 = r'0-9[^ ]+'\n",
    "        text = re.sub(\"[^a-zA-Z]\",\" \", re.sub(pattern4,'',text)).lower()\n",
    "        text_cleaned.append(text)\n",
    "    return text_cleaned"
   ]
  },
  {
   "cell_type": "markdown",
   "id": "contrary-hotel",
   "metadata": {},
   "source": [
    "#### Tokenizing"
   ]
  },
  {
   "cell_type": "code",
   "execution_count": 26,
   "id": "general-rates",
   "metadata": {},
   "outputs": [],
   "source": [
    "def tokenizing(texts,token):\n",
    "    word_tokenized = [token.tokenize(w) for w in texts]\n",
    "    return word_tokenized"
   ]
  },
  {
   "cell_type": "markdown",
   "id": "offshore-midwest",
   "metadata": {},
   "source": [
    "#### Removing stop words"
   ]
  },
  {
   "cell_type": "code",
   "execution_count": 27,
   "id": "spoken-projector",
   "metadata": {},
   "outputs": [],
   "source": [
    "def removing_stopwords(texts,stopwords):\n",
    "    word_stopwords = []\n",
    "    for text in texts:\n",
    "        text = [w for w in text if w not in stopwords]\n",
    "        word_stopwords.append(text)\n",
    "    return word_stopwords"
   ]
  },
  {
   "cell_type": "markdown",
   "id": "chinese-tradition",
   "metadata": {},
   "source": [
    "#### Normalizing words"
   ]
  },
  {
   "cell_type": "code",
   "execution_count": 28,
   "id": "ethical-financing",
   "metadata": {},
   "outputs": [],
   "source": [
    "def lemmatizing(texts,lemmatizer):\n",
    "    word_lemmatized = []\n",
    "    for text in texts:\n",
    "        text = [lemmatizer.lemmatize(w) for w in text]\n",
    "        word_lemmatized.append(text)\n",
    "    return word_lemmatized"
   ]
  },
  {
   "cell_type": "markdown",
   "id": "interracial-hebrew",
   "metadata": {},
   "source": [
    "#### Untokenizing words"
   ]
  },
  {
   "cell_type": "code",
   "execution_count": 29,
   "id": "floppy-optics",
   "metadata": {},
   "outputs": [],
   "source": [
    "def untokenizing(texts):\n",
    "    untokenized = []\n",
    "    for text in texts:\n",
    "        text0 = \" \".join(w for w in text)\n",
    "        untokenized.append(text0)\n",
    "    return untokenized"
   ]
  },
  {
   "cell_type": "code",
   "execution_count": 30,
   "id": "about-electric",
   "metadata": {},
   "outputs": [],
   "source": [
    "def preprocessing_text(text,token,stopwords,lemmatizer):\n",
    "    result = convert_emoji(text)\n",
    "    result = cleaning_text(result)\n",
    "    result = tokenizing(result,token)\n",
    "    result = removing_stopwords(result,stopwords)\n",
    "    result = lemmatizing(result,lemmatizer)\n",
    "    result = untokenizing(result)\n",
    "    result = cleaning_text2(result)\n",
    "    return result"
   ]
  },
  {
   "cell_type": "markdown",
   "id": "civil-order",
   "metadata": {},
   "source": [
    "## 4. Words analysis"
   ]
  },
  {
   "cell_type": "markdown",
   "id": "fantastic-disorder",
   "metadata": {},
   "source": [
    "before we go to the classification stage, we will try to analyze the text of each sentiment (negative and positive) to get the majority of words in each sentiment using word count."
   ]
  },
  {
   "cell_type": "markdown",
   "id": "billion-exploration",
   "metadata": {},
   "source": [
    "#### Words count"
   ]
  },
  {
   "cell_type": "code",
   "execution_count": 31,
   "id": "labeled-spelling",
   "metadata": {},
   "outputs": [],
   "source": [
    "text_analysis = data_prepro1.copy()\n",
    "text_analysis['text'] = preprocessing_text(data_prepro1['text'],token,stopwords,lemmatizer)"
   ]
  },
  {
   "cell_type": "code",
   "execution_count": 32,
   "id": "voluntary-rating",
   "metadata": {},
   "outputs": [],
   "source": [
    "negative_sentiment = text_analysis[text_analysis['airline_sentiment']==0]\n",
    "positive_sentiment = text_analysis[text_analysis['airline_sentiment']==1]"
   ]
  },
  {
   "cell_type": "markdown",
   "id": "dedicated-blanket",
   "metadata": {},
   "source": [
    "#### Negative words"
   ]
  },
  {
   "cell_type": "code",
   "execution_count": 33,
   "id": "incorrect-segment",
   "metadata": {},
   "outputs": [
    {
     "data": {
      "image/png": "[encoded data removed]",
      "text/plain": [
       "<Figure size 432x288 with 1 Axes>"
      ]
     },
     "metadata": {
      "needs_background": "light"
     },
     "output_type": "display_data"
    }
   ],
   "source": [
    "negative_review = \" \".join(review for review in negative_sentiment['text'])\n",
    "wordcloud = WordCloud().generate(negative_review)\n",
    "\n",
    "plt.imshow(wordcloud, interpolation='bilinear')\n",
    "plt.axis(\"off\")\n",
    "plt.savefig('wordcloud11.png')\n",
    "plt.show()"
   ]
  },
  {
   "cell_type": "code",
   "execution_count": 34,
   "id": "received-revision",
   "metadata": {},
   "outputs": [],
   "source": [
    "negative_tokenized = [token.tokenize(w) for w in negative_sentiment['text']]\n",
    "negative_word = []\n",
    "for text in negative_tokenized:\n",
    "    negative_word += text\n",
    "\n",
    "negative_wordcount = FreqDist(negative_word).most_common(20)"
   ]
  },
  {
   "cell_type": "code",
   "execution_count": 35,
   "id": "interim-xerox",
   "metadata": {},
   "outputs": [
    {
     "data": {
      "image/png": "[encoded data removed]",
      "text/plain": [
       "<Figure size 1440x576 with 1 Axes>"
      ]
     },
     "metadata": {
      "needs_background": "light"
     },
     "output_type": "display_data"
    }
   ],
   "source": [
    "plt.figure(figsize=(20,8))\n",
    "data = [list(w) for w in negative_wordcount]\n",
    "x_axis = [v[0] for v in data]\n",
    "y_axis = [v[1] for v in data]\n",
    "plt.bar(x_axis,y_axis)\n",
    "plt.title(\"Most common negative word\")\n",
    "plt.xlabel(\"word\")\n",
    "plt.show()"
   ]
  },
  {
   "cell_type": "markdown",
   "id": "known-block",
   "metadata": {},
   "source": [
    "In negative sentiment, we see majorities of the word that indicates negative word like cencelled, delayed, hold, and so on."
   ]
  },
  {
   "cell_type": "markdown",
   "id": "preliminary-speaker",
   "metadata": {},
   "source": [
    "#### Positive words"
   ]
  },
  {
   "cell_type": "code",
   "execution_count": 36,
   "id": "otherwise-moscow",
   "metadata": {},
   "outputs": [
    {
     "data": {
      "image/png": "[encoded data removed]",
      "text/plain": [
       "<Figure size 432x288 with 1 Axes>"
      ]
     },
     "metadata": {
      "needs_background": "light"
     },
     "output_type": "display_data"
    }
   ],
   "source": [
    "positive_review = \" \".join(review for review in positive_sentiment['text'])\n",
    "wordcloud = WordCloud().generate(positive_review)\n",
    "\n",
    "plt.imshow(wordcloud, interpolation='bilinear')\n",
    "plt.axis(\"off\")\n",
    "plt.savefig('wordcloud11.png')\n",
    "plt.show()"
   ]
  },
  {
   "cell_type": "code",
   "execution_count": 37,
   "id": "opponent-promise",
   "metadata": {},
   "outputs": [],
   "source": [
    "positive_tokenized = [token.tokenize(w) for w in positive_sentiment['text']]\n",
    "positive_word = []\n",
    "for text in positive_tokenized:\n",
    "    positive_word += text\n",
    "\n",
    "positive_wordcount = FreqDist(positive_word).most_common(20)"
   ]
  },
  {
   "cell_type": "code",
   "execution_count": 38,
   "id": "level-index",
   "metadata": {},
   "outputs": [
    {
     "data": {
      "image/png": "[encoded data removed]",
      "text/plain": [
       "<Figure size 1440x576 with 1 Axes>"
      ]
     },
     "metadata": {
      "needs_background": "light"
     },
     "output_type": "display_data"
    }
   ],
   "source": [
    "plt.figure(figsize=(20,8))\n",
    "data = [list(w) for w in positive_wordcount]\n",
    "x_axis = [v[0] for v in data]\n",
    "y_axis = [v[1] for v in data]\n",
    "plt.bar(x_axis,y_axis)\n",
    "plt.title(\"Most common positive word\")\n",
    "plt.xlabel(\"word\")\n",
    "plt.show()"
   ]
  },
  {
   "cell_type": "markdown",
   "id": "sustainable-tourist",
   "metadata": {},
   "source": [
    "in postive sentiment, we found word that indicate positive feeling by travelers like thanks, great, love, pray, good, best, awesome, and so on."
   ]
  },
  {
   "cell_type": "markdown",
   "id": "agreed-insight",
   "metadata": {},
   "source": [
    "At first glance, we see some words that are mostly in negative and positive sentiments, which are likely to affect the classification results, so we will remove these words from the text by adding them to the stopword corpus."
   ]
  },
  {
   "cell_type": "code",
   "execution_count": 39,
   "id": "instant-quick",
   "metadata": {},
   "outputs": [],
   "source": [
    "extend_stopwords = ['flight','customer','service','get','got','help','today','day','amp','time']"
   ]
  },
  {
   "cell_type": "markdown",
   "id": "fifty-flavor",
   "metadata": {},
   "source": [
    "## 5. Build model to predict airline sentiment"
   ]
  },
  {
   "cell_type": "markdown",
   "id": "injured-bathroom",
   "metadata": {},
   "source": [
    "There will be several phase before the data is ready to be trained:\n",
    "1. Update stopwords\n",
    "2. tf-idf vectorizing\n",
    "3. Split dataset into train and testset"
   ]
  },
  {
   "cell_type": "markdown",
   "id": "nonprofit-costs",
   "metadata": {},
   "source": [
    "### Text processing"
   ]
  },
  {
   "cell_type": "markdown",
   "id": "romantic-wichita",
   "metadata": {},
   "source": [
    "#### Update stopwords"
   ]
  },
  {
   "cell_type": "code",
   "execution_count": 40,
   "id": "danish-arctic",
   "metadata": {},
   "outputs": [],
   "source": [
    "stopwords.extend(extend_stopwords)"
   ]
  },
  {
   "cell_type": "code",
   "execution_count": 41,
   "id": "bridal-badge",
   "metadata": {},
   "outputs": [],
   "source": [
    "text_prepro = preprocessing_text(data_prepro1['text'],token,stopwords,lemmatizer)"
   ]
  },
  {
   "cell_type": "markdown",
   "id": "subtle-channel",
   "metadata": {},
   "source": [
    "#### TF-IDF Vectorizing text"
   ]
  },
  {
   "cell_type": "markdown",
   "id": "broad-pathology",
   "metadata": {},
   "source": [
    "tf-idf is one of term weighting or giving term weighting to the document. This weighting will be used by Machine Learning algorithm for document classification."
   ]
  },
  {
   "cell_type": "code",
   "execution_count": 42,
   "id": "leading-boring",
   "metadata": {},
   "outputs": [],
   "source": [
    "tfidf = TfidfVectorizer(max_features=5000).fit(text_prepro)\n",
    "vectorized= tfidf.transform(text_prepro)"
   ]
  },
  {
   "cell_type": "code",
   "execution_count": 43,
   "id": "speaking-martin",
   "metadata": {},
   "outputs": [],
   "source": [
    "data_prepro =pd.DataFrame(vectorized.toarray(),columns=[tfidf.get_feature_names()])\n",
    "data_prepro['airline_sentiment'] = data_prepro1['airline_sentiment']"
   ]
  },
  {
   "cell_type": "markdown",
   "id": "typical-feature",
   "metadata": {},
   "source": [
    "### Split Dataset to train and test set"
   ]
  },
  {
   "cell_type": "code",
   "execution_count": 44,
   "id": "stylish-palestine",
   "metadata": {},
   "outputs": [],
   "source": [
    "x = data_prepro.drop(columns=['airline_sentiment'])\n",
    "y = data_prepro['airline_sentiment'].iloc[:,0].astype(int)"
   ]
  },
  {
   "cell_type": "code",
   "execution_count": 45,
   "id": "floral-framework",
   "metadata": {},
   "outputs": [],
   "source": [
    "x_train, x_test, y_train, y_test = train_test_split(x,y,test_size=0.2,random_state=1234,stratify=y)"
   ]
  },
  {
   "cell_type": "markdown",
   "id": "careful-documentary",
   "metadata": {},
   "source": [
    "### Default models"
   ]
  },
  {
   "cell_type": "markdown",
   "id": "orange-efficiency",
   "metadata": {},
   "source": [
    "the data is ready to be trained, then we will build several models with default parameters:\n",
    "1. Logistic Regression\n",
    "2. Random Forest Classifier\n",
    "3. Support Vector Machine\n",
    "4. XGBoost\n",
    "5. K-Nearest Neigbors Classifier"
   ]
  },
  {
   "cell_type": "markdown",
   "id": "popular-quantum",
   "metadata": {},
   "source": [
    "#### Logistic Regression"
   ]
  },
  {
   "cell_type": "code",
   "execution_count": 46,
   "id": "accomplished-sarah",
   "metadata": {},
   "outputs": [
    {
     "data": {
      "text/plain": [
       "LogisticRegression(random_state=1234)"
      ]
     },
     "execution_count": 46,
     "metadata": {},
     "output_type": "execute_result"
    }
   ],
   "source": [
    "lr =  LogisticRegression(random_state=1234)\n",
    "lr.fit(x_train,y_train)"
   ]
  },
  {
   "cell_type": "code",
   "execution_count": 47,
   "id": "historic-honey",
   "metadata": {},
   "outputs": [
    {
     "name": "stdout",
     "output_type": "stream",
     "text": [
      "              precision    recall  f1-score   support\n",
      "\n",
      "           0       0.90      0.98      0.94      1817\n",
      "           1       0.89      0.57      0.69       467\n",
      "\n",
      "    accuracy                           0.90      2284\n",
      "   macro avg       0.89      0.77      0.81      2284\n",
      "weighted avg       0.90      0.90      0.89      2284\n",
      "\n"
     ]
    }
   ],
   "source": [
    "lr_ypred = lr.predict(x_test)\n",
    "print(classification_report(y_test, lr_ypred))"
   ]
  },
  {
   "cell_type": "code",
   "execution_count": 48,
   "id": "administrative-israel",
   "metadata": {},
   "outputs": [
    {
     "data": {
      "text/plain": [
       "array([[1783,   34],\n",
       "       [ 203,  264]], dtype=int64)"
      ]
     },
     "execution_count": 48,
     "metadata": {},
     "output_type": "execute_result"
    }
   ],
   "source": [
    "lr_acc = accuracy_score(y_test, lr_ypred)\n",
    "lr_f1 = f1_score(y_test, lr_ypred)\n",
    "lr_prec = precision_score(y_test, lr_ypred)\n",
    "lr_recall = recall_score(y_test, lr_ypred)\n",
    "confusion_matrix(y_test, lr_ypred)"
   ]
  },
  {
   "cell_type": "markdown",
   "id": "spiritual-stations",
   "metadata": {},
   "source": [
    "#### Random Forest Classifier"
   ]
  },
  {
   "cell_type": "code",
   "execution_count": 49,
   "id": "adolescent-procurement",
   "metadata": {},
   "outputs": [
    {
     "data": {
      "text/plain": [
       "RandomForestClassifier(random_state=1234)"
      ]
     },
     "execution_count": 49,
     "metadata": {},
     "output_type": "execute_result"
    }
   ],
   "source": [
    "rf =  RandomForestClassifier(random_state=1234)\n",
    "rf.fit(x_train,y_train)"
   ]
  },
  {
   "cell_type": "code",
   "execution_count": 50,
   "id": "virgin-pressing",
   "metadata": {},
   "outputs": [
    {
     "name": "stdout",
     "output_type": "stream",
     "text": [
      "              precision    recall  f1-score   support\n",
      "\n",
      "           0       0.92      0.95      0.94      1817\n",
      "           1       0.79      0.68      0.73       467\n",
      "\n",
      "    accuracy                           0.90      2284\n",
      "   macro avg       0.86      0.82      0.83      2284\n",
      "weighted avg       0.89      0.90      0.89      2284\n",
      "\n"
     ]
    }
   ],
   "source": [
    "rf_ypred = rf.predict(x_test)\n",
    "print(classification_report(y_test, rf_ypred))"
   ]
  },
  {
   "cell_type": "code",
   "execution_count": 51,
   "id": "fifty-tsunami",
   "metadata": {},
   "outputs": [
    {
     "data": {
      "text/plain": [
       "array([[1735,   82],\n",
       "       [ 151,  316]], dtype=int64)"
      ]
     },
     "execution_count": 51,
     "metadata": {},
     "output_type": "execute_result"
    }
   ],
   "source": [
    "rf_acc = accuracy_score(y_test, rf_ypred)\n",
    "rf_f1 = f1_score(y_test, rf_ypred)\n",
    "rf_prec = precision_score(y_test, rf_ypred)\n",
    "rf_recall = recall_score(y_test, rf_ypred)\n",
    "confusion_matrix(y_test, rf_ypred)"
   ]
  },
  {
   "cell_type": "markdown",
   "id": "banned-helena",
   "metadata": {},
   "source": [
    "#### Support Vector Machine"
   ]
  },
  {
   "cell_type": "code",
   "execution_count": 52,
   "id": "incorporate-pastor",
   "metadata": {},
   "outputs": [
    {
     "data": {
      "text/plain": [
       "SVC(probability=True, random_state=1234)"
      ]
     },
     "execution_count": 52,
     "metadata": {},
     "output_type": "execute_result"
    }
   ],
   "source": [
    "svm = SVC(random_state=1234,probability=True)\n",
    "svm.fit(x_train, y_train)"
   ]
  },
  {
   "cell_type": "code",
   "execution_count": 53,
   "id": "public-manor",
   "metadata": {},
   "outputs": [
    {
     "name": "stdout",
     "output_type": "stream",
     "text": [
      "              precision    recall  f1-score   support\n",
      "\n",
      "           0       0.91      0.98      0.94      1817\n",
      "           1       0.87      0.63      0.73       467\n",
      "\n",
      "    accuracy                           0.91      2284\n",
      "   macro avg       0.89      0.80      0.84      2284\n",
      "weighted avg       0.90      0.91      0.90      2284\n",
      "\n"
     ]
    }
   ],
   "source": [
    "svm_ypred = svm.predict(x_test)\n",
    "print(classification_report(y_test, svm_ypred))"
   ]
  },
  {
   "cell_type": "code",
   "execution_count": 54,
   "id": "informal-henry",
   "metadata": {},
   "outputs": [
    {
     "data": {
      "text/plain": [
       "array([[1774,   43],\n",
       "       [ 173,  294]], dtype=int64)"
      ]
     },
     "execution_count": 54,
     "metadata": {},
     "output_type": "execute_result"
    }
   ],
   "source": [
    "svm_acc = accuracy_score(y_test, svm_ypred)\n",
    "svm_f1 = f1_score(y_test, svm_ypred)\n",
    "svm_prec = precision_score(y_test, svm_ypred)\n",
    "svm_recall = recall_score(y_test, svm_ypred)\n",
    "confusion_matrix(y_test, svm_ypred)"
   ]
  },
  {
   "cell_type": "markdown",
   "id": "opposed-final",
   "metadata": {},
   "source": [
    "#### XGBoost Classifier"
   ]
  },
  {
   "cell_type": "code",
   "execution_count": 55,
   "id": "geographic-coordinate",
   "metadata": {},
   "outputs": [
    {
     "data": {
      "text/plain": [
       "XGBClassifier(base_score=0.5, booster='gbtree', colsample_bylevel=1,\n",
       "              colsample_bynode=1, colsample_bytree=1, eval_metric='mlogloss',\n",
       "              gamma=0, gpu_id=-1, importance_type='gain',\n",
       "              interaction_constraints='', learning_rate=0.300000012,\n",
       "              max_delta_step=0, max_depth=6, min_child_weight=1, missing=nan,\n",
       "              monotone_constraints='()', n_estimators=100, n_jobs=4,\n",
       "              num_parallel_tree=1, random_state=1234, reg_alpha=0, reg_lambda=1,\n",
       "              scale_pos_weight=1, subsample=1, tree_method='exact',\n",
       "              use_label_encoder=False, validate_parameters=1, verbosity=None)"
      ]
     },
     "execution_count": 55,
     "metadata": {},
     "output_type": "execute_result"
    }
   ],
   "source": [
    "xgb = XGBClassifier(eval_metric='mlogloss',use_label_encoder=False,random_state=1234)\n",
    "xgb.fit(x_train,y_train)"
   ]
  },
  {
   "cell_type": "code",
   "execution_count": 56,
   "id": "heavy-suggestion",
   "metadata": {},
   "outputs": [
    {
     "name": "stdout",
     "output_type": "stream",
     "text": [
      "              precision    recall  f1-score   support\n",
      "\n",
      "           0       0.91      0.97      0.94      1817\n",
      "           1       0.82      0.63      0.71       467\n",
      "\n",
      "    accuracy                           0.90      2284\n",
      "   macro avg       0.87      0.80      0.82      2284\n",
      "weighted avg       0.89      0.90      0.89      2284\n",
      "\n"
     ]
    }
   ],
   "source": [
    "xgb_ypred = xgb.predict(x_test)\n",
    "print(classification_report(y_test, xgb_ypred))"
   ]
  },
  {
   "cell_type": "code",
   "execution_count": 57,
   "id": "dress-september",
   "metadata": {},
   "outputs": [
    {
     "data": {
      "text/plain": [
       "array([[1755,   62],\n",
       "       [ 175,  292]], dtype=int64)"
      ]
     },
     "execution_count": 57,
     "metadata": {},
     "output_type": "execute_result"
    }
   ],
   "source": [
    "xgb_acc = accuracy_score(y_test, xgb_ypred)\n",
    "xgb_f1 = f1_score(y_test, xgb_ypred)\n",
    "xgb_prec = precision_score(y_test, xgb_ypred)\n",
    "xgb_recall = recall_score(y_test, xgb_ypred)\n",
    "confusion_matrix(y_test, xgb_ypred)"
   ]
  },
  {
   "cell_type": "markdown",
   "id": "pharmaceutical-optimum",
   "metadata": {},
   "source": [
    "#### K-Nearest Neigbors Classifier"
   ]
  },
  {
   "cell_type": "code",
   "execution_count": 58,
   "id": "black-stability",
   "metadata": {},
   "outputs": [
    {
     "data": {
      "text/plain": [
       "KNeighborsClassifier()"
      ]
     },
     "execution_count": 58,
     "metadata": {},
     "output_type": "execute_result"
    }
   ],
   "source": [
    "knn = KNeighborsClassifier()\n",
    "knn.fit(x_train, y_train)"
   ]
  },
  {
   "cell_type": "code",
   "execution_count": 59,
   "id": "central-wagon",
   "metadata": {},
   "outputs": [
    {
     "name": "stdout",
     "output_type": "stream",
     "text": [
      "              precision    recall  f1-score   support\n",
      "\n",
      "           0       0.84      0.94      0.88      1817\n",
      "           1       0.54      0.29      0.38       467\n",
      "\n",
      "    accuracy                           0.80      2284\n",
      "   macro avg       0.69      0.61      0.63      2284\n",
      "weighted avg       0.78      0.80      0.78      2284\n",
      "\n"
     ]
    }
   ],
   "source": [
    "knn_ypred = knn.predict(x_test)\n",
    "print(classification_report(y_test, knn_ypred))"
   ]
  },
  {
   "cell_type": "code",
   "execution_count": 60,
   "id": "faced-chinese",
   "metadata": {},
   "outputs": [
    {
     "data": {
      "text/plain": [
       "array([[1699,  118],\n",
       "       [ 331,  136]], dtype=int64)"
      ]
     },
     "execution_count": 60,
     "metadata": {},
     "output_type": "execute_result"
    }
   ],
   "source": [
    "knn_acc = accuracy_score(y_test, knn_ypred)\n",
    "knn_f1 = f1_score(y_test, knn_ypred)\n",
    "knn_prec = precision_score(y_test, knn_ypred)\n",
    "knn_recall = recall_score(y_test, knn_ypred)\n",
    "confusion_matrix(y_test, knn_ypred)"
   ]
  },
  {
   "cell_type": "markdown",
   "id": "downtown-portable",
   "metadata": {},
   "source": [
    "### Model comparation"
   ]
  },
  {
   "cell_type": "code",
   "execution_count": 61,
   "id": "modern-actress",
   "metadata": {},
   "outputs": [
    {
     "data": {
      "text/html": [
       "<div>\n",
       "<style scoped>\n",
       "    .dataframe tbody tr th:only-of-type {\n",
       "        vertical-align: middle;\n",
       "    }\n",
       "\n",
       "    .dataframe tbody tr th {\n",
       "        vertical-align: top;\n",
       "    }\n",
       "\n",
       "    .dataframe thead th {\n",
       "        text-align: right;\n",
       "    }\n",
       "</style>\n",
       "<table border=\"1\" class=\"dataframe\">\n",
       "  <thead>\n",
       "    <tr style=\"text-align: right;\">\n",
       "      <th></th>\n",
       "      <th>Model</th>\n",
       "      <th>Accuracy</th>\n",
       "      <th>F1</th>\n",
       "      <th>Precision</th>\n",
       "      <th>Recall</th>\n",
       "    </tr>\n",
       "  </thead>\n",
       "  <tbody>\n",
       "    <tr>\n",
       "      <th>0</th>\n",
       "      <td>Logistic Regression</td>\n",
       "      <td>0.896235</td>\n",
       "      <td>0.690196</td>\n",
       "      <td>0.885906</td>\n",
       "      <td>0.565310</td>\n",
       "    </tr>\n",
       "    <tr>\n",
       "      <th>1</th>\n",
       "      <td>Random Forest</td>\n",
       "      <td>0.897986</td>\n",
       "      <td>0.730636</td>\n",
       "      <td>0.793970</td>\n",
       "      <td>0.676660</td>\n",
       "    </tr>\n",
       "    <tr>\n",
       "      <th>2</th>\n",
       "      <td>Support Vector Machine</td>\n",
       "      <td>0.905429</td>\n",
       "      <td>0.731343</td>\n",
       "      <td>0.872404</td>\n",
       "      <td>0.629550</td>\n",
       "    </tr>\n",
       "    <tr>\n",
       "      <th>3</th>\n",
       "      <td>XGBoost</td>\n",
       "      <td>0.896235</td>\n",
       "      <td>0.711328</td>\n",
       "      <td>0.824859</td>\n",
       "      <td>0.625268</td>\n",
       "    </tr>\n",
       "    <tr>\n",
       "      <th>4</th>\n",
       "      <td>KNearest Neighbor</td>\n",
       "      <td>0.803415</td>\n",
       "      <td>0.377254</td>\n",
       "      <td>0.535433</td>\n",
       "      <td>0.291221</td>\n",
       "    </tr>\n",
       "  </tbody>\n",
       "</table>\n",
       "</div>"
      ],
      "text/plain": [
       "                    Model  Accuracy        F1  Precision    Recall\n",
       "0     Logistic Regression  0.896235  0.690196   0.885906  0.565310\n",
       "1           Random Forest  0.897986  0.730636   0.793970  0.676660\n",
       "2  Support Vector Machine  0.905429  0.731343   0.872404  0.629550\n",
       "3                 XGBoost  0.896235  0.711328   0.824859  0.625268\n",
       "4       KNearest Neighbor  0.803415  0.377254   0.535433  0.291221"
      ]
     },
     "execution_count": 61,
     "metadata": {},
     "output_type": "execute_result"
    }
   ],
   "source": [
    "result_dict = {'Model':['Logistic Regression', 'Random Forest', 'Support Vector Machine', 'XGBoost', 'KNearest Neighbor'],\n",
    "              'Accuracy':[lr_acc, rf_acc, svm_acc, xgb_acc, knn_acc],\n",
    "              'F1':[lr_f1, rf_f1, svm_f1, xgb_f1, knn_f1],\n",
    "              'Precision':[lr_prec, rf_prec, svm_prec, xgb_prec, knn_prec],\n",
    "              'Recall':[lr_recall, rf_recall, svm_recall, xgb_recall, knn_recall]}\n",
    "df_result = pd.DataFrame(result_dict)\n",
    "df_result"
   ]
  },
  {
   "cell_type": "markdown",
   "id": "received-article",
   "metadata": {},
   "source": [
    "there are several classification models that have been trained, one will be selected for hyperparameter tuning. we see that svm gets the best accuracy and f1 score, so we will try to do hyperparameter tuning on the svm model"
   ]
  },
  {
   "cell_type": "markdown",
   "id": "fleet-limitation",
   "metadata": {},
   "source": [
    "### Hyperparameter tuning"
   ]
  },
  {
   "cell_type": "markdown",
   "id": "thorough-consensus",
   "metadata": {},
   "source": [
    "in this section, we will find the best combination of parameters for the svm model using a randomized search cv"
   ]
  },
  {
   "cell_type": "markdown",
   "id": "dirty-tournament",
   "metadata": {},
   "source": [
    "#### Randomized Search CV"
   ]
  },
  {
   "cell_type": "code",
   "execution_count": 62,
   "id": "material-hungary",
   "metadata": {},
   "outputs": [],
   "source": [
    "svm_tune = SVC(random_state=1234)"
   ]
  },
  {
   "cell_type": "code",
   "execution_count": 63,
   "id": "structured-hindu",
   "metadata": {},
   "outputs": [],
   "source": [
    "svm_param ={'C':[1,2,5,6],\n",
    "            'kernel':['rbf'],\n",
    "            'gamma':[0.75, 0.5, 0.25, 1]}"
   ]
  },
  {
   "cell_type": "code",
   "execution_count": 64,
   "id": "english-threat",
   "metadata": {},
   "outputs": [],
   "source": [
    "svm_rand =  RandomizedSearchCV(svm_tune,\n",
    "                        param_distributions=svm_param,\n",
    "                        scoring='accuracy',\n",
    "                        cv=10,\n",
    "                        n_jobs=-1,\n",
    "                        random_state = 1234,\n",
    "                        return_train_score=True)"
   ]
  },
  {
   "cell_type": "code",
   "execution_count": null,
   "id": "precious-windows",
   "metadata": {},
   "outputs": [],
   "source": [
    "svm_fit = svm_rand.fit(x_train,y_train)"
   ]
  },
  {
   "cell_type": "code",
   "execution_count": null,
   "id": "about-bicycle",
   "metadata": {},
   "outputs": [],
   "source": [
    "svm_fit.best_params_"
   ]
  },
  {
   "cell_type": "markdown",
   "id": "foster-kennedy",
   "metadata": {},
   "source": [
    "#### Training model with the best parameters"
   ]
  },
  {
   "cell_type": "code",
   "execution_count": 65,
   "id": "wanted-establishment",
   "metadata": {},
   "outputs": [
    {
     "data": {
      "text/plain": [
       "SVC(C=5, gamma=0.5, probability=True)"
      ]
     },
     "execution_count": 65,
     "metadata": {},
     "output_type": "execute_result"
    }
   ],
   "source": [
    "svm_final = SVC(C=5 , kernel='rbf' , gamma=0.5, probability=True  )\n",
    "svm_final.fit(x_train,y_train)"
   ]
  },
  {
   "cell_type": "code",
   "execution_count": 66,
   "id": "sunrise-robertson",
   "metadata": {},
   "outputs": [
    {
     "name": "stdout",
     "output_type": "stream",
     "text": [
      "              precision    recall  f1-score   support\n",
      "\n",
      "           0       0.93      0.96      0.95      1817\n",
      "           1       0.83      0.73      0.78       467\n",
      "\n",
      "    accuracy                           0.92      2284\n",
      "   macro avg       0.88      0.85      0.86      2284\n",
      "weighted avg       0.91      0.92      0.91      2284\n",
      "\n"
     ]
    }
   ],
   "source": [
    "svm_final_ypred = svm_final.predict(x_test)\n",
    "print(classification_report(y_test, svm_final_ypred))"
   ]
  },
  {
   "cell_type": "code",
   "execution_count": 67,
   "id": "governmental-algorithm",
   "metadata": {},
   "outputs": [],
   "source": [
    "svm_final_acc = accuracy_score(y_test, svm_final_ypred)\n",
    "svm_final_f1 = f1_score(y_test, svm_final_ypred)\n",
    "svm_final_prec = precision_score(y_test, svm_final_ypred)\n",
    "svm_final_recall = recall_score(y_test, svm_final_ypred)"
   ]
  },
  {
   "cell_type": "code",
   "execution_count": 68,
   "id": "completed-capitol",
   "metadata": {},
   "outputs": [
    {
     "data": {
      "text/plain": [
       "array([[1748,   69],\n",
       "       [ 124,  343]], dtype=int64)"
      ]
     },
     "execution_count": 68,
     "metadata": {},
     "output_type": "execute_result"
    }
   ],
   "source": [
    "confusion_matrix(y_test, svm_final_ypred)"
   ]
  },
  {
   "cell_type": "code",
   "execution_count": 69,
   "id": "graduate-sample",
   "metadata": {},
   "outputs": [],
   "source": [
    "svm_final_yprob = svm_final.predict_proba(x_test)"
   ]
  },
  {
   "cell_type": "code",
   "execution_count": 70,
   "id": "threaded-bracket",
   "metadata": {},
   "outputs": [],
   "source": [
    "fpr,tpr,threshold = roc_curve(y_test, svm_final_yprob[:,1])\n",
    "roc_auc = auc(fpr,tpr)"
   ]
  },
  {
   "cell_type": "code",
   "execution_count": 71,
   "id": "exciting-lotus",
   "metadata": {},
   "outputs": [
    {
     "data": {
      "image/png": "[encoded data removed]",
      "text/plain": [
       "<Figure size 720x576 with 1 Axes>"
      ]
     },
     "metadata": {
      "needs_background": "light"
     },
     "output_type": "display_data"
    }
   ],
   "source": [
    "fig, ax = plt.subplots(figsize=(10,8))\n",
    "ax.plot(fpr,tpr, label='ROC curve (area = %0.2f)' % roc_auc)\n",
    "ax.set_xlabel('False Positive Rate')\n",
    "ax.set_ylabel('True Positive Rate')\n",
    "ax.set_title('Receiver operating characteristic example of SVM')\n",
    "ax.legend(loc='lower right')\n",
    "plt.show()"
   ]
  },
  {
   "cell_type": "markdown",
   "id": "indirect-winner",
   "metadata": {},
   "source": [
    "### Model comparation after hyperparamter tuning"
   ]
  },
  {
   "cell_type": "code",
   "execution_count": 72,
   "id": "neural-activation",
   "metadata": {},
   "outputs": [
    {
     "data": {
      "text/html": [
       "<div>\n",
       "<style scoped>\n",
       "    .dataframe tbody tr th:only-of-type {\n",
       "        vertical-align: middle;\n",
       "    }\n",
       "\n",
       "    .dataframe tbody tr th {\n",
       "        vertical-align: top;\n",
       "    }\n",
       "\n",
       "    .dataframe thead th {\n",
       "        text-align: right;\n",
       "    }\n",
       "</style>\n",
       "<table border=\"1\" class=\"dataframe\">\n",
       "  <thead>\n",
       "    <tr style=\"text-align: right;\">\n",
       "      <th></th>\n",
       "      <th>Model</th>\n",
       "      <th>Accuracy</th>\n",
       "      <th>F1</th>\n",
       "      <th>Precision</th>\n",
       "      <th>Recall</th>\n",
       "    </tr>\n",
       "  </thead>\n",
       "  <tbody>\n",
       "    <tr>\n",
       "      <th>0</th>\n",
       "      <td>Logistic Regression</td>\n",
       "      <td>0.896235</td>\n",
       "      <td>0.690196</td>\n",
       "      <td>0.885906</td>\n",
       "      <td>0.565310</td>\n",
       "    </tr>\n",
       "    <tr>\n",
       "      <th>1</th>\n",
       "      <td>Random Forest</td>\n",
       "      <td>0.897986</td>\n",
       "      <td>0.730636</td>\n",
       "      <td>0.793970</td>\n",
       "      <td>0.676660</td>\n",
       "    </tr>\n",
       "    <tr>\n",
       "      <th>2</th>\n",
       "      <td>Support Vector Machine</td>\n",
       "      <td>0.905429</td>\n",
       "      <td>0.731343</td>\n",
       "      <td>0.872404</td>\n",
       "      <td>0.629550</td>\n",
       "    </tr>\n",
       "    <tr>\n",
       "      <th>3</th>\n",
       "      <td>XGBoost</td>\n",
       "      <td>0.896235</td>\n",
       "      <td>0.711328</td>\n",
       "      <td>0.824859</td>\n",
       "      <td>0.625268</td>\n",
       "    </tr>\n",
       "    <tr>\n",
       "      <th>4</th>\n",
       "      <td>KNearest Neighbor</td>\n",
       "      <td>0.803415</td>\n",
       "      <td>0.377254</td>\n",
       "      <td>0.535433</td>\n",
       "      <td>0.291221</td>\n",
       "    </tr>\n",
       "    <tr>\n",
       "      <th>0</th>\n",
       "      <td>Final SVM</td>\n",
       "      <td>0.915499</td>\n",
       "      <td>0.780432</td>\n",
       "      <td>0.832524</td>\n",
       "      <td>0.734475</td>\n",
       "    </tr>\n",
       "  </tbody>\n",
       "</table>\n",
       "</div>"
      ],
      "text/plain": [
       "                    Model  Accuracy        F1  Precision    Recall\n",
       "0     Logistic Regression  0.896235  0.690196   0.885906  0.565310\n",
       "1           Random Forest  0.897986  0.730636   0.793970  0.676660\n",
       "2  Support Vector Machine  0.905429  0.731343   0.872404  0.629550\n",
       "3                 XGBoost  0.896235  0.711328   0.824859  0.625268\n",
       "4       KNearest Neighbor  0.803415  0.377254   0.535433  0.291221\n",
       "0               Final SVM  0.915499  0.780432   0.832524  0.734475"
      ]
     },
     "execution_count": 72,
     "metadata": {},
     "output_type": "execute_result"
    }
   ],
   "source": [
    "final_df = pd.DataFrame([['Final SVM', svm_final_acc, svm_final_f1, svm_final_prec, svm_final_recall]],\n",
    "               columns = ['Model','Accuracy','F1', 'Precision','Recall'])\n",
    "final_result = df_result.append(final_df)\n",
    "final_result"
   ]
  },
  {
   "cell_type": "markdown",
   "id": "foreign-ordering",
   "metadata": {},
   "source": [
    "the result of final svm model has been increase, with accuracy is 91.5499% and f1-score is 78.0432%. The values of the variable target is not balanced, 79.56% : 20.44%. i thought the result of the final svm model is pretty good to predict sentiment class"
   ]
  },
  {
   "cell_type": "markdown",
   "id": "composed-sweden",
   "metadata": {},
   "source": [
    "## 6. Final Model"
   ]
  },
  {
   "cell_type": "markdown",
   "id": "pressing-louisiana",
   "metadata": {},
   "source": [
    "after we get the best model to predict sentiment class, we will use this model to predict new texts or tweets, so we need to save all attributes that are used to prediction, that attributes is:\n",
    "- svm model\n",
    "- tokenizer, stopwords, and lemmatizer\n",
    "- tf-idf vectorizer\n",
    "- function to text processing"
   ]
  },
  {
   "cell_type": "markdown",
   "id": "unlimited-bottle",
   "metadata": {},
   "source": [
    "#### Saving model"
   ]
  },
  {
   "cell_type": "code",
   "execution_count": 73,
   "id": "intelligent-quality",
   "metadata": {},
   "outputs": [
    {
     "data": {
      "text/plain": [
       "['svm_model.pkl']"
      ]
     },
     "execution_count": 73,
     "metadata": {},
     "output_type": "execute_result"
    }
   ],
   "source": [
    "joblib.dump(svm_final,'svm_model.pkl')"
   ]
  },
  {
   "cell_type": "markdown",
   "id": "ceramic-maryland",
   "metadata": {},
   "source": [
    "#### Saving tf-idf"
   ]
  },
  {
   "cell_type": "code",
   "execution_count": 74,
   "id": "polish-inflation",
   "metadata": {},
   "outputs": [
    {
     "data": {
      "text/plain": [
       "['tfidf.pkl']"
      ]
     },
     "execution_count": 74,
     "metadata": {},
     "output_type": "execute_result"
    }
   ],
   "source": [
    "joblib.dump(tfidf,'tfidf.pkl')"
   ]
  },
  {
   "cell_type": "markdown",
   "id": "based-banks",
   "metadata": {},
   "source": [
    "#### Saving tokenizer, stopwords, lemmatizer"
   ]
  },
  {
   "cell_type": "code",
   "execution_count": 75,
   "id": "boxed-penny",
   "metadata": {},
   "outputs": [
    {
     "data": {
      "text/plain": [
       "['lemmatizer.pkl']"
      ]
     },
     "execution_count": 75,
     "metadata": {},
     "output_type": "execute_result"
    }
   ],
   "source": [
    "joblib.dump(token,'tokenizer.pkl')\n",
    "joblib.dump(stopwords,'stopwords.pkl')\n",
    "joblib.dump(lemmatizer,'lemmatizer.pkl')"
   ]
  },
  {
   "cell_type": "markdown",
   "id": "delayed-parish",
   "metadata": {},
   "source": [
    "#### Function to text processing (text_processing.py)"
   ]
  },
  {
   "cell_type": "markdown",
   "id": "needed-desire",
   "metadata": {},
   "source": [
    "to use this function you need to save it to be file .py. then if you will use it, just import this file to your project"
   ]
  },
  {
   "cell_type": "code",
   "execution_count": null,
   "id": "democratic-awareness",
   "metadata": {},
   "outputs": [],
   "source": [
    "# Convert Emoji\n",
    "def convert_emoji(text):\n",
    "    new_text = ''\n",
    "    for emoji in e.UNICODE_EMOJI:\n",
    "        if emoji in text:\n",
    "            text = re.sub(r'[:]',\"\",\n",
    "                        re.sub(r'[::]',\" \",\n",
    "                               re.sub(r'['+emoji+']',e.UNICODE_EMOJI_ALIAS[emoji],text)))\n",
    "    new_text = text\n",
    "    \n",
    "    return new_text\n",
    "\n",
    "# Cleaning Text\n",
    "def cleaning_text(text):\n",
    "    pattern1 = r'@[^ ]+'\n",
    "    pattern2 = r'https?://[^ ]+'\n",
    "    pattern3 = r'#[^ ]+'\n",
    "    combined_pattern = r'|'.join((pattern1,pattern2,pattern3))\n",
    "    www_patt = r'www.[^ ]+'\n",
    "    text_cleaned = re.sub(www_patt,'',re.sub(combined_pattern,'',text)).lower()\n",
    "\n",
    "    return text_cleaned\n",
    "\n",
    "def cleaning_text2(text):\n",
    "    pattern4 = r'0-9[^ ]+'\n",
    "    text_cleaned = re.sub(\"[^a-zA-Z]\",\" \", re.sub(pattern4,'',text)).lower()\n",
    "    \n",
    "    return text_cleaned\n",
    "\n",
    "def text_processing(text,tokenizer,lemmatizer,stopwords):\n",
    "    emoji_converted = convert_emoji(text)\n",
    "    cleaned = cleaning_text(emoji_converted)\n",
    "    # Tokenizing\n",
    "    tokenized = tokenizer.tokenize(cleaned)\n",
    "    # Remove stopwords\n",
    "    word_stopwords = [w for w in tokenized if w not in stopwords]\n",
    "    # Normalizing words\n",
    "    word_lemmatized = [lemmatizer.lemmatize(w) for w in word_stopwords]\n",
    "    # Untokenizing words\n",
    "    untokenized = \" \".join(w for w in word_lemmatized)\n",
    "    text_processed = cleaning_text2(untokenized)\n",
    "    \n",
    "    return text_processed"
   ]
  },
  {
   "cell_type": "markdown",
   "id": "pleasant-projector",
   "metadata": {},
   "source": [
    "## 7. Single prediction"
   ]
  },
  {
   "cell_type": "markdown",
   "id": "exciting-carol",
   "metadata": {},
   "source": [
    "we will try to predict a tweet using a trained model."
   ]
  },
  {
   "cell_type": "code",
   "execution_count": 76,
   "id": "typical-month",
   "metadata": {},
   "outputs": [],
   "source": [
    "from text_processing import *"
   ]
  },
  {
   "cell_type": "markdown",
   "id": "forty-cricket",
   "metadata": {},
   "source": [
    "### Load model, tf-idf vectorizer, tokenizer, stopwords, lemmatizer"
   ]
  },
  {
   "cell_type": "code",
   "execution_count": 77,
   "id": "white-porter",
   "metadata": {},
   "outputs": [],
   "source": [
    "model = joblib.load('svm_model.pkl')\n",
    "tfidf = joblib.load('tfidf.pkl')\n",
    "token = joblib.load('tokenizer.pkl')\n",
    "stopwords = joblib.load('stopwords.pkl')\n",
    "lemmatizer = joblib.load('lemmatizer.pkl')"
   ]
  },
  {
   "cell_type": "markdown",
   "id": "cooperative-devices",
   "metadata": {},
   "source": [
    "### Text 1"
   ]
  },
  {
   "cell_type": "markdown",
   "id": "disciplinary-county",
   "metadata": {},
   "source": [
    "#### Input Text"
   ]
  },
  {
   "cell_type": "code",
   "execution_count": 78,
   "id": "blond-bible",
   "metadata": {},
   "outputs": [],
   "source": [
    "text = \"@american why is your airline always delayed?\""
   ]
  },
  {
   "cell_type": "markdown",
   "id": "thick-strap",
   "metadata": {},
   "source": [
    "#### Text processing"
   ]
  },
  {
   "cell_type": "code",
   "execution_count": 79,
   "id": "motivated-marina",
   "metadata": {},
   "outputs": [],
   "source": [
    "text_pro0 = text_processing(text,token,lemmatizer,stopwords)\n",
    "vectorized = tfidf.transform([text_pro0])\n",
    "text_pro = vectorized.toarray().reshape(1,-1)"
   ]
  },
  {
   "cell_type": "markdown",
   "id": "hungry-camera",
   "metadata": {},
   "source": [
    "#### Prediction sentiment class"
   ]
  },
  {
   "cell_type": "code",
   "execution_count": 80,
   "id": "complex-morrison",
   "metadata": {},
   "outputs": [],
   "source": [
    "pred = model.predict(text_pro)"
   ]
  },
  {
   "cell_type": "code",
   "execution_count": 81,
   "id": "separate-minute",
   "metadata": {},
   "outputs": [
    {
     "name": "stdout",
     "output_type": "stream",
     "text": [
      "@american why is your airline always delayed?\n",
      "\n",
      "sentiment for this tweet is likely negative\n"
     ]
    }
   ],
   "source": [
    "print(text)\n",
    "print(\"\")\n",
    "if pred == 0:\n",
    "    print(\"sentiment for this tweet is likely negative\")\n",
    "else:\n",
    "    print(\"sentiment for this tweet is likely positive\")"
   ]
  },
  {
   "cell_type": "markdown",
   "id": "northern-comfort",
   "metadata": {},
   "source": [
    "### Text 1"
   ]
  },
  {
   "cell_type": "markdown",
   "id": "independent-haiti",
   "metadata": {},
   "source": [
    "#### Input Text"
   ]
  },
  {
   "cell_type": "code",
   "execution_count": 82,
   "id": "later-branch",
   "metadata": {},
   "outputs": [],
   "source": [
    "text2 = \"@fatihdq i like this airline, nice flight\""
   ]
  },
  {
   "cell_type": "markdown",
   "id": "tested-soldier",
   "metadata": {},
   "source": [
    "#### Text processing"
   ]
  },
  {
   "cell_type": "code",
   "execution_count": 83,
   "id": "attractive-palestinian",
   "metadata": {},
   "outputs": [],
   "source": [
    "text_pro0 = text_processing(text2,token,lemmatizer,stopwords)\n",
    "vectorized = tfidf.transform([text_pro0])\n",
    "text_pro = vectorized.toarray().reshape(1,-1)"
   ]
  },
  {
   "cell_type": "markdown",
   "id": "contrary-things",
   "metadata": {},
   "source": [
    "#### Prediction sentiment class"
   ]
  },
  {
   "cell_type": "code",
   "execution_count": 84,
   "id": "brilliant-herald",
   "metadata": {},
   "outputs": [],
   "source": [
    "pred = model.predict(text_pro)"
   ]
  },
  {
   "cell_type": "code",
   "execution_count": 85,
   "id": "happy-valentine",
   "metadata": {},
   "outputs": [
    {
     "name": "stdout",
     "output_type": "stream",
     "text": [
      "@fatihdq i like this airline, nice flight\n",
      "\n",
      "sentiment for this tweet is likely positive\n"
     ]
    }
   ],
   "source": [
    "print(text2)\n",
    "print(\"\")\n",
    "if pred == 0:\n",
    "    print(\"sentiment for this tweet is likely negative\")\n",
    "else:\n",
    "    print(\"sentiment for this tweet is likely positive\")"
   ]
  }
 ],
 "metadata": {
  "kernelspec": {
   "display_name": "Python 3",
   "language": "python",
   "name": "python3"
  },
  "language_info": {
   "codemirror_mode": {
    "name": "ipython",
    "version": 3
   },
   "file_extension": ".py",
   "mimetype": "text/x-python",
   "name": "python",
   "nbconvert_exporter": "python",
   "pygments_lexer": "ipython3",
   "version": "3.8.5"
  }
 },
 "nbformat": 4,
 "nbformat_minor": 5
}
